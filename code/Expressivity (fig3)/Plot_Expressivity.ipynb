{
 "cells": [
  {
   "cell_type": "code",
   "execution_count": null,
   "metadata": {},
   "outputs": [],
   "source": [
    "from __future__ import absolute_import\n",
    "from __future__ import division\n",
    "from __future__ import print_function\n",
    "\n",
    "import os, sys\n",
    "import numpy as np\n",
    "import matplotlib.pyplot as plt\n",
    "%matplotlib inline\n",
    "\n",
    "import tensorflow as tf\n",
    "from deepomics import neuralnetwork as nn\n",
    "from deepomics import utils, fit, visualize, saliency, metrics\n",
    "\n",
    "import helper\n",
    "\n",
    "np.random.seed(247)\n",
    "tf.set_random_seed(247)"
   ]
  },
  {
   "cell_type": "code",
   "execution_count": null,
   "metadata": {},
   "outputs": [],
   "source": [
    "data_path = '../data/Synthetic_dataset.h5'\n",
    "results_path = '../results'\n",
    "params_path = utils.make_directory(results_path, 'model_params')\n",
    "\n",
    "# load dataset\n",
    "train, valid, test = helper.load_synthetic_dataset(data_path)\n",
    "\n",
    "test_model = helper.load_synthetic_models(data_path, dataset='test')\n",
    "    \n",
    "# get data shapes\n",
    "input_shape = list(train['inputs'].shape)\n",
    "input_shape[0] = None\n",
    "output_shape = [None, train['targets'].shape[1]]"
   ]
  },
  {
   "cell_type": "markdown",
   "metadata": {},
   "source": [
    "# LocalNet"
   ]
  },
  {
   "cell_type": "code",
   "execution_count": null,
   "metadata": {},
   "outputs": [],
   "source": [
    "tf.reset_default_graph()\n",
    "\n",
    "model_name = 'LocalNet'\n",
    "dropout_status = True\n",
    "l2_status = True\n",
    "bn_status = True\n",
    "    \n",
    "# load model parameters\n",
    "model_layers, optimization, genome_model = helper.load_model(model_name, \n",
    "                                                             input_shape, \n",
    "                                                             dropout_status, \n",
    "                                                             l2_status, \n",
    "                                                             bn_status)\n",
    "# build neural network class\n",
    "nnmodel = nn.NeuralNet(seed=247)\n",
    "nnmodel.build_layers(model_layers, optimization, supervised=True)\n",
    "nnmodel.inspect_layers()"
   ]
  },
  {
   "cell_type": "code",
   "execution_count": null,
   "metadata": {},
   "outputs": [],
   "source": [
    "# compile neural trainers\n",
    "model_path = utils.make_directory(params_path, model_name)\n",
    "file_path = os.path.join(model_path, model_name+'_do_l2_bn')\n",
    "nntrainer = nn.NeuralTrainer(nnmodel, save='best', file_path=file_path)\n",
    "\n",
    "# initialize session\n",
    "sess = utils.initialize_session()\n",
    "\n",
    "# load best parameters\n",
    "nntrainer.set_best_parameters(sess)\n",
    "\n",
    "activations = nntrainer.get_activations(sess, test, layer='conv1d_1_active')\n",
    "activations = np.squeeze(activations)\n"
   ]
  },
  {
   "cell_type": "code",
   "execution_count": null,
   "metadata": {},
   "outputs": [],
   "source": [
    "index = 7\n",
    "\n",
    "X = np.expand_dims(test['inputs'][index], axis=0)\n",
    "X_model = test_model[index]\n"
   ]
  },
  {
   "cell_type": "code",
   "execution_count": null,
   "metadata": {},
   "outputs": [],
   "source": [
    "active_indices = [5, 44, 55, 66]\n",
    "num_plots = len(active_indices)\n",
    "\n",
    "plot_index = []\n",
    "for index in active_indices:\n",
    "    indices = np.argsort(activations[:,index])[::-1]\n",
    "    plot_index.append(indices[:5])\n",
    "plot_index"
   ]
  },
  {
   "cell_type": "code",
   "execution_count": null,
   "metadata": {},
   "outputs": [],
   "source": [
    "plot_index = [563, 1561, 3398, 2750, 1184]\n",
    "\n",
    "X_model = test_model[plot_index]\n",
    "X = test['inputs'][plot_index]\n",
    "\n",
    "\n",
    "# saliency parameters\n",
    "params = {'model_name': model_name, \n",
    "          'input_shape': input_shape, \n",
    "          'dropout_status': dropout_status,\n",
    "          'l2_status': l2_status,\n",
    "          'bn_status': bn_status,\n",
    "          'model_path': file_path+'_best.ckpt',\n",
    "         }\n",
    "\n",
    "\n",
    "saliency = []\n",
    "for neuron_index in active_indices:\n",
    "    val = helper.backprop(X, layer='conv1d_1_active', class_index=neuron_index, params=params, method='guided')\n",
    "    saliency.append(val)\n"
   ]
  },
  {
   "cell_type": "code",
   "execution_count": null,
   "metadata": {
    "scrolled": true
   },
   "outputs": [],
   "source": [
    "\n",
    "save_path = utils.make_directory(results_path, 'expressivity')\n",
    "num_plots = 4\n",
    "\n",
    "for j in range(5):\n",
    "\n",
    "    fig = plt.figure(figsize=(100,10))\n",
    "    for i in range(4):\n",
    "        plt.subplot(num_plots,1,i+1)\n",
    "        pwm = utils.normalize_pwm(np.squeeze(saliency[i][j]).T, factor=3)\n",
    "        logo = visualize.seq_logo(pwm, height=500, nt_width=100, norm=0, alphabet='dna')\n",
    "        plt.imshow(logo)\n",
    "        plt.xticks([])\n",
    "        plt.yticks([])\n",
    "        plt.ylabel(str(active_indices[i]), fontsize=70)\n",
    "\n",
    "\n",
    "    outfile = os.path.join(save_path,model_name+'_'+str(j)+'_layer1.pdf')\n",
    "    fig.savefig(outfile, format='pdf', dpi=200, bbox_inches='tight')\n",
    "\n",
    "\n",
    "    fig = plt.figure(figsize=(100,4))\n",
    "    visualize.plot_seq_pos_saliency(np.squeeze(X[j]).T, X_model[j], alphabet='dna', nt_width=50, norm_factor=3)\n",
    "    outfile = os.path.join(save_path,model_name+'_'+str(j)+'_model.pdf')\n",
    "    fig.savefig(outfile, format='pdf', dpi=200, bbox_inches='tight')\n",
    "\n"
   ]
  },
  {
   "cell_type": "markdown",
   "metadata": {},
   "source": [
    "# DistNet"
   ]
  },
  {
   "cell_type": "code",
   "execution_count": null,
   "metadata": {},
   "outputs": [],
   "source": [
    "tf.reset_default_graph()\n",
    "\n",
    "model_name = 'DistNet'\n",
    "dropout_status = True\n",
    "l2_status = True\n",
    "bn_status = True\n",
    "    \n",
    "# load model parameters\n",
    "model_layers, optimization, genome_model = helper.load_model(model_name, \n",
    "                                                             input_shape, \n",
    "                                                             dropout_status, \n",
    "                                                             l2_status, \n",
    "                                                             bn_status)\n",
    "# build neural network class\n",
    "nnmodel = nn.NeuralNet(seed=247)\n",
    "nnmodel.build_layers(model_layers, optimization, supervised=True)\n",
    "nnmodel.inspect_layers()"
   ]
  },
  {
   "cell_type": "code",
   "execution_count": null,
   "metadata": {},
   "outputs": [],
   "source": [
    "# compile neural trainers\n",
    "model_path = utils.make_directory(params_path, model_name)\n",
    "file_path = os.path.join(model_path, model_name+'_do_l2_bn')\n",
    "nntrainer = nn.NeuralTrainer(nnmodel, save='best', file_path=file_path)\n",
    "\n",
    "# initialize session\n",
    "sess = utils.initialize_session()\n",
    "\n",
    "# load best parameters\n",
    "nntrainer.set_best_parameters(sess)\n",
    "\n",
    "activations = nntrainer.get_activations(sess, test, layer='conv1d_3_active')\n",
    "activations = np.squeeze(activations)\n"
   ]
  },
  {
   "cell_type": "code",
   "execution_count": null,
   "metadata": {},
   "outputs": [],
   "source": [
    "plot_index = [563, 1561, 3398, 2750, 1184]\n",
    "active_indices = [9, 23, 60, 85]\n",
    "\n",
    "X_model = test_model[plot_index]\n",
    "X = test['inputs'][plot_index]\n",
    "\n",
    "\n",
    "# saliency parameters\n",
    "params = {'model_name': model_name, \n",
    "          'input_shape': input_shape, \n",
    "          'output_shape': output_shape, \n",
    "          'dropout_status': dropout_status,\n",
    "          'l2_status': l2_status,\n",
    "          'bn_status': bn_status,\n",
    "          'model_path': file_path+'_best.ckpt',\n",
    "         }\n",
    "\n",
    "saliency = []\n",
    "for neuron_index in active_indices:\n",
    "    val = helper.backprop(X, layer='conv1d_4_active', class_index=neuron_index, params=params, method='guided')\n",
    "    saliency.append(val)\n"
   ]
  },
  {
   "cell_type": "code",
   "execution_count": null,
   "metadata": {
    "scrolled": true
   },
   "outputs": [],
   "source": [
    "\n",
    "save_path = utils.make_directory(results_path, 'expressivity')\n",
    "num_plots = 4\n",
    "\n",
    "for j in range(5):\n",
    "\n",
    "    fig = plt.figure(figsize=(100,10))\n",
    "    for i in range(4):\n",
    "        plt.subplot(num_plots,1,i+1)\n",
    "        pwm = utils.normalize_pwm(np.squeeze(saliency[i][j]).T, factor=3)\n",
    "        logo = visualize.seq_logo(pwm, height=500, nt_width=100, norm=0, alphabet='dna')\n",
    "        plt.imshow(logo)\n",
    "        plt.xticks([])\n",
    "        plt.yticks([])\n",
    "        plt.ylabel(str(active_indices[i]), fontsize=70)\n",
    "\n",
    "\n",
    "    outfile = os.path.join(save_path,model_name+'_'+str(j)+'_layer.pdf')\n",
    "    fig.savefig(outfile, format='pdf', dpi=200, bbox_inches='tight')\n",
    "\n",
    "\n",
    "    fig = plt.figure(figsize=(100,4))\n",
    "    visualize.plot_seq_pos_saliency(np.squeeze(X[j]).T, X_model[j], alphabet='dna', nt_width=50, norm_factor=3)\n",
    "    outfile = os.path.join(save_path,model_name+'_'+str(j)+'_model.pdf')\n",
    "    fig.savefig(outfile, format='pdf', dpi=200, bbox_inches='tight')\n",
    "\n"
   ]
  },
  {
   "cell_type": "code",
   "execution_count": null,
   "metadata": {},
   "outputs": [],
   "source": []
  }
 ],
 "metadata": {
  "kernelspec": {
   "display_name": "Python 2",
   "language": "python",
   "name": "python2"
  },
  "language_info": {
   "codemirror_mode": {
    "name": "ipython",
    "version": 2
   },
   "file_extension": ".py",
   "mimetype": "text/x-python",
   "name": "python",
   "nbconvert_exporter": "python",
   "pygments_lexer": "ipython2",
   "version": "2.7.12"
  }
 },
 "nbformat": 4,
 "nbformat_minor": 2
}
