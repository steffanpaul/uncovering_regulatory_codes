{
 "cells": [
  {
   "cell_type": "code",
   "execution_count": 1,
   "metadata": {
    "collapsed": true
   },
   "outputs": [],
   "source": [
    "from __future__ import absolute_import\n",
    "from __future__ import division\n",
    "from __future__ import print_function\n",
    "\n",
    "import os, sys, h5py\n",
    "import numpy as np\n",
    "import helper\n",
    "import tensorflow as tf\n",
    "from deepomics import neuralnetwork as nn\n",
    "from deepomics import utils, fit\n",
    "\n",
    "import pandas as pd"
   ]
  },
  {
   "cell_type": "markdown",
   "metadata": {},
   "source": [
    "This notebook contains the code to extract the results of full First Order Mutagenesis (that is, performing FoM saliency on every sequence of every model with every regularization method). \n",
    "\n",
    "The file is in the shape (num_models, num_regmethods, num_poslabels, dims, seqlen).\n",
    "\n",
    "Each result is the unnormalized output of each model."
   ]
  },
  {
   "cell_type": "code",
   "execution_count": null,
   "metadata": {
    "collapsed": true
   },
   "outputs": [],
   "source": [
    "#Get results\n",
    "results_path = '../results'\n",
    "save_path = utils.make_directory(results_path, 'FoM_full_analysis')\n",
    "hdf5path = os.path.join(save_path, 'full_fom_predictions'+'.hdf5')\n",
    "\n",
    "with h5py.File(hdf5path, 'r') as dataset:\n",
    "    full_fom = np.array(dataset['full_fom'])\n",
    "    \n",
    "full_fom.shape"
   ]
  },
  {
   "cell_type": "markdown",
   "metadata": {},
   "source": [
    "The following function returns two structures that will aid in indexing into the output array. It gives the name of each model and regularization method in a pandas DataFrame and a dictionary with the index of each model attached to its name. "
   ]
  },
  {
   "cell_type": "code",
   "execution_count": 5,
   "metadata": {
    "collapsed": false
   },
   "outputs": [
    {
     "data": {
      "text/html": [
       "<div>\n",
       "<table border=\"1\" class=\"dataframe\">\n",
       "  <thead>\n",
       "    <tr style=\"text-align: right;\">\n",
       "      <th></th>\n",
       "      <th>0</th>\n",
       "      <th>1</th>\n",
       "      <th>2</th>\n",
       "      <th>3</th>\n",
       "      <th>4</th>\n",
       "      <th>5</th>\n",
       "      <th>6</th>\n",
       "      <th>7</th>\n",
       "    </tr>\n",
       "  </thead>\n",
       "  <tbody>\n",
       "    <tr>\n",
       "      <th>0</th>\n",
       "      <td>DistNet_do_l2_bn</td>\n",
       "      <td>DistNet_do</td>\n",
       "      <td>DistNet_l2</td>\n",
       "      <td>DistNet_bn</td>\n",
       "      <td>DistNet</td>\n",
       "      <td>DistNet_do_l2</td>\n",
       "      <td>DistNet_do_bn</td>\n",
       "      <td>DistNet_l2_bn</td>\n",
       "    </tr>\n",
       "    <tr>\n",
       "      <th>1</th>\n",
       "      <td>LocalNet_do_l2_bn</td>\n",
       "      <td>LocalNet_do</td>\n",
       "      <td>LocalNet_l2</td>\n",
       "      <td>LocalNet_bn</td>\n",
       "      <td>LocalNet</td>\n",
       "      <td>LocalNet_do_l2</td>\n",
       "      <td>LocalNet_do_bn</td>\n",
       "      <td>LocalNet_l2_bn</td>\n",
       "    </tr>\n",
       "    <tr>\n",
       "      <th>2</th>\n",
       "      <td>DeepBind_do_l2_bn</td>\n",
       "      <td>DeepBind_do</td>\n",
       "      <td>DeepBind_l2</td>\n",
       "      <td>DeepBind_bn</td>\n",
       "      <td>DeepBind</td>\n",
       "      <td>DeepBind_do_l2</td>\n",
       "      <td>DeepBind_do_bn</td>\n",
       "      <td>DeepBind_l2_bn</td>\n",
       "    </tr>\n",
       "    <tr>\n",
       "      <th>3</th>\n",
       "      <td>StandardNet_do_l2_bn</td>\n",
       "      <td>StandardNet_do</td>\n",
       "      <td>StandardNet_l2</td>\n",
       "      <td>StandardNet_bn</td>\n",
       "      <td>StandardNet</td>\n",
       "      <td>StandardNet_do_l2</td>\n",
       "      <td>StandardNet_do_bn</td>\n",
       "      <td>StandardNet_l2_bn</td>\n",
       "    </tr>\n",
       "  </tbody>\n",
       "</table>\n",
       "</div>"
      ],
      "text/plain": [
       "                      0               1               2               3  \\\n",
       "0      DistNet_do_l2_bn      DistNet_do      DistNet_l2      DistNet_bn   \n",
       "1     LocalNet_do_l2_bn     LocalNet_do     LocalNet_l2     LocalNet_bn   \n",
       "2     DeepBind_do_l2_bn     DeepBind_do     DeepBind_l2     DeepBind_bn   \n",
       "3  StandardNet_do_l2_bn  StandardNet_do  StandardNet_l2  StandardNet_bn   \n",
       "\n",
       "             4                  5                  6                  7  \n",
       "0      DistNet      DistNet_do_l2      DistNet_do_bn      DistNet_l2_bn  \n",
       "1     LocalNet     LocalNet_do_l2     LocalNet_do_bn     LocalNet_l2_bn  \n",
       "2     DeepBind     DeepBind_do_l2     DeepBind_do_bn     DeepBind_l2_bn  \n",
       "3  StandardNet  StandardNet_do_l2  StandardNet_do_bn  StandardNet_l2_bn  "
      ]
     },
     "execution_count": 5,
     "metadata": {},
     "output_type": "execute_result"
    }
   ],
   "source": [
    "Names, analysis_idx = helper.analysis_names()\n",
    "Names"
   ]
  }
 ],
 "metadata": {
  "kernelspec": {
   "display_name": "Python 2",
   "language": "python",
   "name": "python2"
  },
  "language_info": {
   "codemirror_mode": {
    "name": "ipython",
    "version": 2
   },
   "file_extension": ".py",
   "mimetype": "text/x-python",
   "name": "python",
   "nbconvert_exporter": "python",
   "pygments_lexer": "ipython2",
   "version": "2.7.13"
  }
 },
 "nbformat": 4,
 "nbformat_minor": 2
}
