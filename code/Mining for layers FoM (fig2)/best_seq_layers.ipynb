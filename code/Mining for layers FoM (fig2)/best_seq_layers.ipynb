{
 "cells": [
  {
   "cell_type": "code",
   "execution_count": null,
   "metadata": {
    "collapsed": true
   },
   "outputs": [],
   "source": [
    "'''DISTNET'''\n",
    "data_dist = {}\n",
    "\n",
    "data_dist[2115] =[['conv1d_0_active', [10,17,12,4]],\n",
    "                 ['conv1d_1_active', [19,17,28,10]],\n",
    "                 ['conv1d_2_active', [46,44,6,11]],\n",
    "                 ['conv1d_3_active', [7,49,47,42]],\n",
    "                 ['conv1d_4_active', [49,55,25,54]]]\n",
    "\n",
    "\n",
    "\n",
    "data_dist[4149]=[['conv1d_0_active', [23,2,8,20]],\n",
    "                 ['conv1d_1_active', [8,12,31,17]],\n",
    "                 ['conv1d_2_active', [18,31,3,44]],\n",
    "                 ['conv1d_3_active', [9,48,55,32]],\n",
    "                 ['conv1d_4_active', [53,51,89,77]]]\n",
    "\n",
    "\n",
    "\n",
    "data_dist[1608]=[['conv1d_0_active', [1,22,21,20]],\n",
    "                 ['conv1d_1_active', [27,12,22,28]],\n",
    "                 ['conv1d_2_active', [1,44,11,20]],\n",
    "                 ['conv1d_3_active', [42,62,10,29]],\n",
    "                 ['conv1d_4_active', [60,5,19,13]]]    \n",
    "\n",
    "\n",
    "'''LOCALNET'''\n",
    "\n",
    "data_local={}\n",
    "\n",
    "data_local[1608]=[['conv1d_0_active', [1,17,20,10]],\n",
    "                 ['conv1d_1_active', [65,48,41,71]]]\n",
    "\n",
    "data_local[4149]=[['conv1d_0_active', [2,4,22,23]],\n",
    "                 ['conv1d_1_active', [38,80,8,51]]]\n",
    "\n",
    "data_local[2115]=[['conv1d_0_active', [4,15,2,22]],\n",
    "                 ['conv1d_1_active', [93,92,66,73]]]\n"
   ]
  }
 ],
 "metadata": {
  "kernelspec": {
   "display_name": "Python 2",
   "language": "python",
   "name": "python2"
  },
  "language_info": {
   "codemirror_mode": {
    "name": "ipython",
    "version": 2
   },
   "file_extension": ".py",
   "mimetype": "text/x-python",
   "name": "python",
   "nbconvert_exporter": "python",
   "pygments_lexer": "ipython2",
   "version": "2.7.13"
  }
 },
 "nbformat": 4,
 "nbformat_minor": 2
}
